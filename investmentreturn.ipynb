{
 "cells": [
  {
   "cell_type": "markdown",
   "id": "f65782b1",
   "metadata": {},
   "source": [
    "## **RETORNO SOBRE O INVESTIMENTO       BTC / USD**"
   ]
  },
  {
   "cell_type": "code",
   "execution_count": null,
   "id": "c6571c30",
   "metadata": {},
   "outputs": [],
   "source": [
    "import random\n",
    "\n",
    "#mes_agosto = ['1/AGO', '2/AGO', '3/AGO', '4/AGO', '5/AGO', '6/AGO', '7/AGO', '8/AGO', '9/AGO', '10/AGO', '11/AGO',\n",
    " #'12/AGO', '13/AGO', '14/AGO', '15/AGO', '16/AGO', '17/AGO', '18/AGO', '19/AGO', '20/AGO', '21/AGO', '22/AGO',\n",
    "#'23/AGO', '24/AGO', '25/AGO', '26/AGO', '27/AGO', '28/AGO', '29/AGO', '30/AGO', '31/AGO']\n",
    "\n",
    "#roi_agosto = ['+ 25$', '- 20$', '+ 30$', '- 45$', '- 11$', '+ 60$', '- 15$', '+ 40$', '- 50$', '- 25$', '+ 35$', \n",
    "#'- 18$', '+ 28$', '+ 33$', '- 12$', '+ 48$', '+ 22$', '+ 17$', '+ 41$', '- 11$', '- 36$', '- 19$', '+ 31$', \n",
    "#'+ 16$', '- 20$', '+ 27$', '- 25$', '+ 14$', '+ 41$', '+ 13$','+ 37$']\n",
    "\n",
    "ROI = []\n",
    "for _ in range(31):\n",
    "    sinal = random.choice(['+', '-'])\n",
    "    valor = round(random.uniform(5, 70), 2)\n",
    "    ROI.append(f'{sinal} {valor:.2f}$')\n",
    "\n",
    "wallet = float(input('\\nWallet: '))\n",
    "wallet_inicial = wallet\n",
    "\n",
    "dias_positivos = 0\n",
    "dias_negativos = 0\n",
    "\n",
    "for ROI in ROI:\n",
    "    if ROI.startswith('+'): # Identifica se o valor é positivo ou negativo (+)(-)\n",
    "        dias_positivos += float(ROI.strip('+ $')) # Limpa a string removendo (+)($)\n",
    "    elif ROI.startswith('-'):\n",
    "        dias_negativos += float(ROI.strip('- $'))\n",
    "\n",
    "wallet += (dias_positivos - dias_negativos)\n",
    "\n",
    "print(f'\\n📌 Saldo atual → {wallet_inicial:.2f}$')\n",
    "print(f'\\n📈 Total de ganhos → {dias_positivos:.2f}$')\n",
    "print(f'📉 Total de perdas → {dias_negativos:.2f}$')\n",
    "print(f'💰 Saldo disponível → {wallet:.2f}$')\n",
    "\n",
    "resultado = wallet - wallet_inicial\n",
    "percentual = (resultado / wallet_inicial) * 100  # Cálculo do percentual %\n",
    "\n",
    "if wallet < 0:\n",
    "    print('\\n  ❌ Liquidação Imposta ❌')\n",
    "elif wallet > wallet_inicial:\n",
    "    print(f'✅ Rendimento estimado → {wallet - wallet_inicial:.2f}$ ({percentual:.2f}%)')\n",
    "elif wallet == wallet_inicial:\n",
    "    print(f'➖ Nenhum lucro ou perda no mês.')\n",
    "else:\n",
    "    print(f'🔻 Prejuízo estimado → {wallet_inicial - wallet:.2f}$ ({percentual:.2f}%)')"
   ]
  }
 ],
 "metadata": {
  "language_info": {
   "name": "python"
  }
 },
 "nbformat": 4,
 "nbformat_minor": 5
}
